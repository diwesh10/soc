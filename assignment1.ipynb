{
 "cells": [
  {
   "cell_type": "code",
   "execution_count": 1,
   "id": "4bad4b6b-b59b-46b4-b7e5-69de7dcde9d4",
   "metadata": {},
   "outputs": [],
   "source": [
    "import numpy as np\n",
    "import pandas as pd\n",
    "from matplotlib import pyplot as plt\n",
    "\n",
    "data = pd.read_csv('D:\\mnist_train.csv')"
   ]
  },
  {
   "cell_type": "code",
   "execution_count": 5,
   "id": "46b4cee1-70b5-4889-b1a0-aa0912bd2d17",
   "metadata": {},
   "outputs": [
    {
     "data": {
      "text/plain": [
       "array([2, 6, 3, ..., 1, 6, 6], dtype=int64)"
      ]
     },
     "execution_count": 5,
     "metadata": {},
     "output_type": "execute_result"
    }
   ],
   "source": [
    "data = np.array(data)\n",
    "m, n = data.shape\n",
    "np.random.shuffle(data) \n",
    "data_dev = data[0:1000].T\n",
    "Y_dev = data_dev[0]\n",
    "X_dev = data_dev[1:n]\n",
    "X_dev = X_dev / 255.\n",
    "\n",
    "data_train = data[1000:m].T\n",
    "Y_train = data_train[0]\n",
    "X_train = data_train[1:n]\n",
    "X_train = X_train / 255.\n",
    "_,m_train = X_train.shape\n",
    "Y_train"
   ]
  },
  {
   "cell_type": "code",
   "execution_count": 7,
   "id": "197a3170-9d2d-4c07-a765-5f54bb67d618",
   "metadata": {},
   "outputs": [],
   "source": [
    "def init_params():\n",
    "    W1 = np.random.rand(10, 784) - 0.5\n",
    "    b1 = np.random.rand(10, 1) - 0.5\n",
    "    W2 = np.random.rand(10, 10) - 0.5\n",
    "    b2 = np.random.rand(10, 1) - 0.5\n",
    "    return W1, b1, W2, b2\n",
    "\n",
    "def ReLU(Z):\n",
    "    return np.maximum(Z, 0)\n",
    "\n",
    "def softmax(Z):\n",
    "    A = np.exp(Z) / sum(np.exp(Z))\n",
    "    return A\n",
    "    \n",
    "def forward_prop(W1, b1, W2, b2, X):\n",
    "    Z1 = W1.dot(X) + b1\n",
    "    A1 = ReLU(Z1)\n",
    "    Z2 = W2.dot(A1) + b2\n",
    "    A2 = softmax(Z2)\n",
    "    return Z1, A1, Z2, A2\n",
    "\n",
    "def ReLU_deriv(Z):\n",
    "    return Z > 0\n",
    "\n",
    "def one_hot(Y):\n",
    "    one_hot_Y = np.zeros((Y.size, Y.max() + 1))\n",
    "    one_hot_Y[np.arange(Y.size), Y] = 1\n",
    "    one_hot_Y = one_hot_Y.T\n",
    "    return one_hot_Y\n",
    "\n",
    "def backward_prop(Z1, A1, Z2, A2, W1, W2, X, Y):\n",
    "    one_hot_Y = one_hot(Y)\n",
    "    dZ2 = A2 - one_hot_Y\n",
    "    dW2 = 1 / m * dZ2.dot(A1.T)\n",
    "    db2 = 1 / m * np.sum(dZ2)\n",
    "    dZ1 = W2.T.dot(dZ2) * ReLU_deriv(Z1)\n",
    "    dW1 = 1 / m * dZ1.dot(X.T)\n",
    "    db1 = 1 / m * np.sum(dZ1)\n",
    "    return dW1, db1, dW2, db2\n",
    "\n",
    "def update_params(W1, b1, W2, b2, dW1, db1, dW2, db2, alpha):\n",
    "    W1 = W1 - alpha * dW1\n",
    "    b1 = b1 - alpha * db1    \n",
    "    W2 = W2 - alpha * dW2  \n",
    "    b2 = b2 - alpha * db2    \n",
    "    return W1, b1, W2, b2"
   ]
  },
  {
   "cell_type": "code",
   "execution_count": 9,
   "id": "b1edf0bf-2497-41b2-9bd4-1f935c9f01b1",
   "metadata": {},
   "outputs": [],
   "source": [
    "def get_predictions(A2):\n",
    "    return np.argmax(A2, 0)\n",
    "\n",
    "def get_accuracy(predictions, Y):\n",
    "    print(predictions, Y)\n",
    "    return np.sum(predictions == Y) / Y.size\n",
    "\n",
    "def gradient_descent(X, Y, alpha, iterations):\n",
    "    W1, b1, W2, b2 = init_params()\n",
    "    for i in range(iterations):\n",
    "        Z1, A1, Z2, A2 = forward_prop(W1, b1, W2, b2, X)\n",
    "        dW1, db1, dW2, db2 = backward_prop(Z1, A1, Z2, A2, W1, W2, X, Y)\n",
    "        W1, b1, W2, b2 = update_params(W1, b1, W2, b2, dW1, db1, dW2, db2, alpha)\n",
    "        if i % 10 == 0:\n",
    "            print(\"Iteration: \", i)\n",
    "            predictions = get_predictions(A2)\n",
    "            print(get_accuracy(predictions, Y))\n",
    "    return W1, b1, W2, b2"
   ]
  },
  {
   "cell_type": "code",
   "execution_count": 11,
   "id": "beaac6dc-1100-4960-a8c6-b69915c4e249",
   "metadata": {},
   "outputs": [
    {
     "name": "stdout",
     "output_type": "stream",
     "text": [
      "Iteration:  0\n",
      "[4 4 9 ... 4 4 4] [2 6 3 ... 1 6 6]\n",
      "0.09266258750148308\n",
      "Iteration:  10\n",
      "[4 7 3 ... 8 4 4] [2 6 3 ... 1 6 6]\n",
      "0.13791759182359023\n",
      "Iteration:  20\n",
      "[4 7 3 ... 6 4 7] [2 6 3 ... 1 6 6]\n",
      "0.1935287038763369\n",
      "Iteration:  30\n",
      "[8 7 3 ... 6 6 6] [2 6 3 ... 1 6 6]\n",
      "0.2439871862234953\n",
      "Iteration:  40\n",
      "[6 6 3 ... 6 6 6] [2 6 3 ... 1 6 6]\n",
      "0.29441176969101174\n",
      "Iteration:  50\n",
      "[6 6 3 ... 6 6 6] [2 6 3 ... 1 6 6]\n",
      "0.35949761860370516\n",
      "Iteration:  60\n",
      "[6 6 3 ... 6 6 6] [2 6 3 ... 1 6 6]\n",
      "0.4251936473499551\n",
      "Iteration:  70\n",
      "[6 6 3 ... 1 6 6] [2 6 3 ... 1 6 6]\n",
      "0.48216071458838283\n",
      "Iteration:  80\n",
      "[6 6 3 ... 1 6 6] [2 6 3 ... 1 6 6]\n",
      "0.5272292750724589\n",
      "Iteration:  90\n",
      "[6 6 3 ... 1 6 6] [2 6 3 ... 1 6 6]\n",
      "0.5645180426786894\n",
      "Iteration:  100\n",
      "[6 6 3 ... 1 6 6] [2 6 3 ... 1 6 6]\n",
      "0.594467702842421\n",
      "Iteration:  110\n",
      "[2 6 3 ... 1 6 6] [2 6 3 ... 1 6 6]\n",
      "0.6203155985694673\n",
      "Iteration:  120\n",
      "[2 6 3 ... 1 6 6] [2 6 3 ... 1 6 6]\n",
      "0.6432990389667621\n",
      "Iteration:  130\n",
      "[2 6 3 ... 1 6 6] [2 6 3 ... 1 6 6]\n",
      "0.66382481059001\n",
      "Iteration:  140\n",
      "[2 6 3 ... 1 6 6] [2 6 3 ... 1 6 6]\n",
      "0.6812657841658333\n",
      "Iteration:  150\n",
      "[2 6 3 ... 1 6 6] [2 6 3 ... 1 6 6]\n",
      "0.6963507856065357\n",
      "Iteration:  160\n",
      "[2 6 3 ... 1 6 6] [2 6 3 ... 1 6 6]\n",
      "0.7095882981067476\n",
      "Iteration:  170\n",
      "[2 6 3 ... 1 6 6] [2 6 3 ... 1 6 6]\n",
      "0.721130866624858\n",
      "Iteration:  180\n",
      "[2 6 3 ... 1 6 6] [2 6 3 ... 1 6 6]\n",
      "0.7318429125917388\n",
      "Iteration:  190\n",
      "[2 6 3 ... 1 6 6] [2 6 3 ... 1 6 6]\n",
      "0.7415549416091798\n",
      "Iteration:  200\n",
      "[2 6 3 ... 1 6 6] [2 6 3 ... 1 6 6]\n",
      "0.7504364480753911\n",
      "Iteration:  210\n",
      "[2 6 3 ... 1 6 6] [2 6 3 ... 1 6 6]\n",
      "0.75760606111968\n",
      "Iteration:  220\n",
      "[2 6 3 ... 1 6 6] [2 6 3 ... 1 6 6]\n",
      "0.7646909269648638\n",
      "Iteration:  230\n",
      "[2 6 3 ... 1 6 6] [2 6 3 ... 1 6 6]\n",
      "0.7712503601755962\n",
      "Iteration:  240\n",
      "[2 6 3 ... 1 6 6] [2 6 3 ... 1 6 6]\n",
      "0.7775555517890134\n",
      "Iteration:  250\n",
      "[2 6 3 ... 1 6 6] [2 6 3 ... 1 6 6]\n",
      "0.7824030915778234\n",
      "Iteration:  260\n",
      "[2 6 3 ... 1 6 6] [2 6 3 ... 1 6 6]\n",
      "0.7874879235241276\n",
      "Iteration:  270\n",
      "[2 6 3 ... 1 6 6] [2 6 3 ... 1 6 6]\n",
      "0.7918269801183071\n",
      "Iteration:  280\n",
      "[2 6 3 ... 1 6 6] [2 6 3 ... 1 6 6]\n",
      "0.7962507839115918\n",
      "Iteration:  290\n",
      "[2 6 3 ... 1 6 6] [2 6 3 ... 1 6 6]\n",
      "0.800216952829709\n",
      "Iteration:  300\n",
      "[2 6 3 ... 1 6 6] [2 6 3 ... 1 6 6]\n",
      "0.8036407396735538\n",
      "Iteration:  310\n",
      "[2 6 3 ... 1 6 6] [2 6 3 ... 1 6 6]\n",
      "0.8070306276377566\n",
      "Iteration:  320\n",
      "[2 6 3 ... 1 6 6] [2 6 3 ... 1 6 6]\n",
      "0.8101662740046441\n",
      "Iteration:  330\n",
      "[2 6 3 ... 1 6 6] [2 6 3 ... 1 6 6]\n",
      "0.8135222630892049\n",
      "Iteration:  340\n",
      "[2 6 3 ... 1 6 6] [2 6 3 ... 1 6 6]\n",
      "0.8164036678587773\n",
      "Iteration:  350\n",
      "[2 6 3 ... 1 6 6] [2 6 3 ... 1 6 6]\n",
      "0.8189121849522873\n",
      "Iteration:  360\n",
      "[2 6 3 ... 1 6 6] [2 6 3 ... 1 6 6]\n",
      "0.8214715503652604\n",
      "Iteration:  370\n",
      "[2 6 3 ... 1 6 6] [2 6 3 ... 1 6 6]\n",
      "0.8237427753012763\n",
      "Iteration:  380\n",
      "[2 6 3 ... 1 6 6] [2 6 3 ... 1 6 6]\n",
      "0.8257089103205139\n",
      "Iteration:  390\n",
      "[2 6 3 ... 1 6 6] [2 6 3 ... 1 6 6]\n",
      "0.8281496296547399\n",
      "Iteration:  400\n",
      "[2 6 3 ... 1 6 6] [2 6 3 ... 1 6 6]\n",
      "0.8302683096323666\n",
      "Iteration:  410\n",
      "[2 6 3 ... 1 6 6] [2 6 3 ... 1 6 6]\n",
      "0.8320818996932151\n",
      "Iteration:  420\n",
      "[2 6 3 ... 1 6 6] [2 6 3 ... 1 6 6]\n",
      "0.8340649841522738\n",
      "Iteration:  430\n",
      "[2 6 3 ... 1 6 6] [2 6 3 ... 1 6 6]\n",
      "0.8358107764538382\n",
      "Iteration:  440\n",
      "[2 6 3 ... 1 6 6] [2 6 3 ... 1 6 6]\n",
      "0.8377430125934338\n",
      "Iteration:  450\n",
      "[2 6 3 ... 1 6 6] [2 6 3 ... 1 6 6]\n",
      "0.8393362599366091\n",
      "Iteration:  460\n",
      "[2 6 3 ... 1 6 6] [2 6 3 ... 1 6 6]\n",
      "0.8407430634417532\n",
      "Iteration:  470\n",
      "[2 6 3 ... 1 6 6] [2 6 3 ... 1 6 6]\n",
      "0.8422515635858235\n",
      "Iteration:  480\n",
      "[2 6 3 ... 1 6 6] [2 6 3 ... 1 6 6]\n",
      "0.8438617603688198\n",
      "Iteration:  490\n",
      "[2 6 3 ... 1 6 6] [2 6 3 ... 1 6 6]\n",
      "0.8450990694757539\n"
     ]
    }
   ],
   "source": [
    "W1, b1, W2, b2 = gradient_descent(X_train, Y_train, 0.10, 500)"
   ]
  },
  {
   "cell_type": "code",
   "execution_count": 13,
   "id": "1dcec9ac-8e6b-4de2-a9b8-deaa4c56c7b1",
   "metadata": {},
   "outputs": [],
   "source": [
    "def make_predictions(X, W1, b1, W2, b2):\n",
    "    _, _, _, A2 = forward_prop(W1, b1, W2, b2, X)\n",
    "    predictions = get_predictions(A2)\n",
    "    return predictions\n",
    "\n",
    "def test_prediction(index, W1, b1, W2, b2):\n",
    "    current_image = X_train[:, index, None]\n",
    "    prediction = make_predictions(X_train[:, index, None], W1, b1, W2, b2)\n",
    "    label = Y_train[index]\n",
    "    print(\"Prediction: \", prediction)\n",
    "    print(\"Label: \", label)\n",
    "    \n",
    "    current_image = current_image.reshape((28, 28)) * 255\n",
    "    plt.gray()\n",
    "    plt.imshow(current_image, interpolation='nearest')\n",
    "    plt.show()"
   ]
  },
  {
   "cell_type": "code",
   "execution_count": 15,
   "id": "00f0963a-f808-454d-b0a9-122f9f9fc925",
   "metadata": {},
   "outputs": [
    {
     "name": "stdout",
     "output_type": "stream",
     "text": [
      "Prediction:  [2]\n",
      "Label:  2\n"
     ]
    },
    {
     "data": {
      "image/png": "[encoded data removed]",
      "text/plain": [
       "<Figure size 640x480 with 1 Axes>"
      ]
     },
     "metadata": {},
     "output_type": "display_data"
    },
    {
     "name": "stdout",
     "output_type": "stream",
     "text": [
      "Prediction:  [6]\n",
      "Label:  6\n"
     ]
    },
    {
     "data": {
      "image/png": "[encoded data removed]",
      "text/plain": [
       "<Figure size 640x480 with 1 Axes>"
      ]
     },
     "metadata": {},
     "output_type": "display_data"
    },
    {
     "name": "stdout",
     "output_type": "stream",
     "text": [
      "Prediction:  [3]\n",
      "Label:  3\n"
     ]
    },
    {
     "data": {
      "image/png": "[encoded data removed]",
      "text/plain": [
       "<Figure size 640x480 with 1 Axes>"
      ]
     },
     "metadata": {},
     "output_type": "display_data"
    },
    {
     "name": "stdout",
     "output_type": "stream",
     "text": [
      "Prediction:  [6]\n",
      "Label:  6\n"
     ]
    },
    {
     "data": {
      "image/png": "[encoded data removed]",
      "text/plain": [
       "<Figure size 640x480 with 1 Axes>"
      ]
     },
     "metadata": {},
     "output_type": "display_data"
    }
   ],
   "source": [
    "test_prediction(0, W1, b1, W2, b2)\n",
    "test_prediction(1, W1, b1, W2, b2)\n",
    "test_prediction(2, W1, b1, W2, b2)\n",
    "test_prediction(3, W1, b1, W2, b2)"
   ]
  },
  {
   "cell_type": "code",
   "execution_count": 17,
   "id": "ce143207-e9ce-4165-b4dd-41024f02c09c",
   "metadata": {},
   "outputs": [
    {
     "name": "stdout",
     "output_type": "stream",
     "text": [
      "[9 8 1 8 6 0 5 0 6 1 3 6 4 3 1 7 8 8 1 8 9 7 1 1 7 5 4 0 1 9 4 5 9 9 5 7 2\n",
      " 0 1 1 6 9 4 7 4 9 4 9 1 7 4 1 9 4 9 7 1 8 8 8 7 4 8 0 2 2 1 9 2 4 6 6 6 8\n",
      " 4 6 5 1 8 4 2 5 3 9 7 3 1 0 1 0 4 8 7 5 9 1 9 5 1 3 1 2 8 5 5 3 6 6 8 4 9\n",
      " 6 3 8 0 1 6 9 2 7 2 6 5 2 7 1 0 8 0 3 7 1 0 0 8 0 6 7 7 2 6 7 0 6 7 3 9 6\n",
      " 1 7 0 6 4 7 9 8 7 5 9 3 6 5 8 7 3 3 1 5 2 2 7 0 7 8 1 0 9 6 7 5 6 3 4 1 0\n",
      " 5 0 0 8 1 8 2 6 9 2 6 7 0 6 2 7 2 7 7 6 3 0 7 2 6 4 3 4 8 4 5 9 9 9 3 3 9\n",
      " 5 2 0 2 1 8 4 6 5 0 1 4 1 6 7 1 8 7 7 4 6 0 3 4 6 4 5 0 4 7 1 0 7 8 2 1 8\n",
      " 2 2 1 6 9 4 0 7 5 7 0 9 1 9 1 1 1 0 2 9 7 2 8 6 5 8 5 8 8 9 1 5 4 8 1 3 4\n",
      " 0 9 7 3 7 6 1 4 1 7 9 7 8 6 8 1 7 5 2 7 3 3 4 8 2 0 1 2 5 9 4 4 8 0 4 7 7\n",
      " 2 3 7 0 6 3 8 1 8 0 0 0 0 8 8 9 3 9 0 9 1 1 1 5 5 8 6 5 0 7 9 0 9 0 0 9 8\n",
      " 2 7 2 4 9 2 1 1 1 6 8 3 2 4 3 5 9 3 5 4 1 3 5 8 1 6 9 7 7 1 4 7 3 7 7 9 5\n",
      " 1 8 4 2 8 7 4 2 5 4 2 0 8 6 6 3 2 5 8 0 7 1 5 8 8 9 2 1 0 8 9 3 7 2 4 6 1\n",
      " 8 4 1 7 1 3 8 0 5 4 0 8 7 6 2 2 4 0 7 0 2 8 9 7 1 0 3 1 8 1 8 0 5 9 0 1 3\n",
      " 5 8 5 1 3 6 7 6 3 7 0 8 6 0 1 5 2 2 6 2 1 7 4 9 6 8 1 7 6 9 1 2 5 1 4 2 2\n",
      " 9 1 0 1 9 9 0 0 4 6 2 4 8 4 4 2 7 3 5 4 2 6 7 7 5 7 7 7 7 7 9 6 4 2 1 1 5\n",
      " 3 3 1 2 8 7 9 7 8 6 8 9 5 0 8 9 3 8 5 5 8 6 1 7 8 0 4 3 5 0 9 3 7 4 7 0 2\n",
      " 1 5 3 2 6 1 6 1 1 2 7 3 7 4 9 1 5 4 1 2 8 3 4 0 5 0 4 3 9 4 7 8 3 4 9 7 6\n",
      " 4 6 1 4 5 2 1 4 7 6 5 1 9 6 1 1 3 8 9 9 3 2 4 6 0 1 1 3 8 9 4 2 0 3 3 2 0\n",
      " 5 3 4 3 7 2 2 4 4 4 4 7 2 9 7 5 4 7 9 2 8 4 0 2 3 4 3 7 2 4 3 0 8 0 2 0 5\n",
      " 9 1 2 6 5 7 1 9 0 6 4 3 2 9 1 7 8 3 6 0 5 1 3 6 7 6 5 5 9 3 3 4 1 0 2 0 6\n",
      " 6 4 2 9 8 7 7 1 2 3 3 4 5 2 8 4 0 2 0 3 1 0 6 3 2 5 4 9 2 8 6 5 2 8 0 1 7\n",
      " 7 9 5 7 0 7 9 3 3 7 1 0 4 5 9 4 6 5 3 3 8 6 2 5 1 6 0 0 3 5 4 2 6 4 4 7 7\n",
      " 9 1 9 7 6 9 7 5 7 4 1 4 2 7 2 0 1 4 8 4 6 9 4 8 2 4 8 8 4 9 1 6 9 9 6 4 1\n",
      " 4 9 0 1 2 0 3 1 5 3 4 7 1 1 0 5 8 2 0 7 3 4 6 0 3 0 9 0 7 0 3 7 7 0 1 4 9\n",
      " 8 3 0 3 6 2 2 3 3 9 7 7 8 8 0 3 2 2 4 6 7 4 7 6 7 8 0 3 5 6 9 2 6 1 5 3 1\n",
      " 8 8 4 0 2 3 1 1 0 0 0 0 3 2 2 3 8 5 1 7 6 6 2 9 3 5 3 4 6 3 1 8 4 2 2 6 9\n",
      " 0 7 6 2 3 3 2 5 6 6 6 2 1 4 9 8 6 1 1 3 7 5 4 6 7 1 5 2 1 0 9 3 3 8 5 2 8\n",
      " 4] [4 5 1 6 6 0 6 2 6 1 3 6 4 3 1 7 8 8 1 5 9 7 8 1 7 5 4 0 1 9 4 5 9 9 0 7 2\n",
      " 0 1 1 6 9 4 7 4 9 3 8 1 7 4 1 9 4 9 7 1 8 8 8 3 2 9 0 2 2 1 4 2 4 6 6 6 8\n",
      " 4 6 5 1 5 4 2 5 3 9 7 3 1 0 1 5 4 2 7 5 9 1 9 5 1 3 1 8 8 5 5 3 3 6 8 4 8\n",
      " 6 3 8 0 1 6 9 2 7 2 6 3 2 7 1 0 8 0 3 7 1 0 0 8 0 6 6 7 0 6 7 3 6 7 3 9 6\n",
      " 1 7 0 6 4 7 9 5 7 5 9 3 6 5 8 7 3 2 1 5 2 2 7 0 7 8 1 0 9 6 7 3 6 3 4 1 9\n",
      " 3 5 0 8 1 8 2 6 9 2 6 7 0 6 2 7 2 9 7 8 3 6 7 2 6 4 9 4 8 4 5 9 4 7 3 2 9\n",
      " 5 2 0 2 1 2 4 6 5 0 1 4 1 6 7 1 8 7 7 4 6 0 5 6 6 4 5 0 4 7 1 0 7 8 2 1 8\n",
      " 2 2 1 6 7 2 0 7 5 7 0 9 1 8 1 1 1 0 2 9 7 2 5 6 5 8 5 8 8 9 8 9 4 9 1 3 4\n",
      " 0 7 7 3 7 6 1 4 1 2 2 7 3 6 5 1 7 5 2 7 5 8 4 8 2 0 1 6 3 9 4 8 8 0 4 7 3\n",
      " 9 3 7 9 6 3 5 1 5 0 0 0 0 2 8 9 3 9 0 7 1 1 1 5 5 9 0 5 8 7 7 0 9 9 0 9 6\n",
      " 2 7 2 4 7 2 9 1 1 6 8 5 2 4 3 5 9 3 3 9 1 3 5 8 1 6 9 7 7 6 4 7 3 7 7 9 5\n",
      " 1 8 4 2 8 7 4 2 5 9 2 0 2 6 6 5 7 5 8 0 7 1 5 8 8 7 2 1 3 5 9 3 7 2 4 6 1\n",
      " 8 7 1 7 1 3 8 0 5 4 0 8 7 6 6 2 4 0 7 0 2 8 9 9 1 0 3 1 8 1 8 0 5 9 5 2 3\n",
      " 6 8 5 1 3 6 7 4 3 7 0 8 6 0 1 5 2 2 6 2 1 7 4 9 6 8 8 9 6 4 1 2 5 1 4 2 2\n",
      " 9 1 0 1 9 9 0 0 4 6 2 4 8 4 4 2 7 3 5 4 2 6 7 7 8 7 5 3 7 9 8 6 4 2 1 1 5\n",
      " 3 3 1 2 5 7 9 7 8 6 8 9 5 0 8 4 3 8 0 3 2 6 1 9 8 0 4 3 3 0 9 3 7 4 9 0 2\n",
      " 5 5 1 2 2 1 6 1 1 2 7 3 7 4 7 1 5 4 1 2 8 3 4 0 5 0 4 3 9 4 7 8 3 4 9 7 6\n",
      " 4 6 1 4 5 2 6 4 7 6 5 1 9 6 1 1 3 8 9 9 2 2 4 8 0 1 1 3 8 9 4 2 0 3 3 2 0\n",
      " 5 3 4 8 9 2 2 4 4 4 9 7 2 9 9 9 4 9 9 2 8 4 0 2 3 4 3 7 2 4 3 0 3 0 2 0 5\n",
      " 9 1 8 6 5 7 1 9 0 6 4 5 2 9 1 7 8 3 6 0 5 1 3 6 7 6 3 5 9 3 7 4 2 0 2 0 6\n",
      " 6 4 2 9 3 7 9 2 2 8 3 4 5 2 8 4 0 2 0 3 1 0 6 3 2 5 9 9 2 8 6 5 2 8 2 1 7\n",
      " 7 5 5 7 0 7 9 3 3 7 1 0 4 5 9 9 6 5 3 3 8 6 2 3 1 6 0 0 3 5 4 2 6 4 4 8 7\n",
      " 9 1 9 7 6 9 7 5 7 4 1 4 2 2 2 0 1 9 8 4 6 8 4 8 8 4 5 8 4 9 1 6 9 9 6 4 1\n",
      " 4 9 0 1 2 0 3 1 5 3 4 7 1 1 0 5 8 2 0 7 3 6 6 0 3 8 9 0 7 0 3 7 7 0 1 9 9\n",
      " 8 5 0 8 6 5 0 3 8 9 7 7 8 8 0 3 2 2 4 6 7 4 7 6 7 5 0 3 5 6 9 2 6 8 0 3 1\n",
      " 8 8 5 0 9 3 1 1 0 0 9 0 3 2 2 3 8 8 1 3 6 6 2 9 3 5 3 4 6 3 1 5 4 2 2 6 5\n",
      " 0 7 6 5 2 5 7 8 6 6 6 2 1 4 9 3 6 1 1 1 7 5 4 6 7 1 5 2 1 0 9 3 3 8 5 2 8\n",
      " 4]\n"
     ]
    },
    {
     "data": {
      "text/plain": [
       "0.835"
      ]
     },
     "execution_count": 17,
     "metadata": {},
     "output_type": "execute_result"
    }
   ],
   "source": [
    "dev_predictions = make_predictions(X_dev, W1, b1, W2, b2)\n",
    "get_accuracy(dev_predictions, Y_dev)"
   ]
  },
  {
   "cell_type": "code",
   "execution_count": null,
   "id": "2f91b294-cfc5-4a08-bc21-e2eef6610993",
   "metadata": {},
   "outputs": [],
   "source": []
  }
 ],
 "metadata": {
  "kernelspec": {
   "display_name": "Python 3 (ipykernel)",
   "language": "python",
   "name": "python3"
  },
  "language_info": {
   "codemirror_mode": {
    "name": "ipython",
    "version": 3
   },
   "file_extension": ".py",
   "mimetype": "text/x-python",
   "name": "python",
   "nbconvert_exporter": "python",
   "pygments_lexer": "ipython3",
   "version": "3.11.7"
  }
 },
 "nbformat": 4,
 "nbformat_minor": 5
}
